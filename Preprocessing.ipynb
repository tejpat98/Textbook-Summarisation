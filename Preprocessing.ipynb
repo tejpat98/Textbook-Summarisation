{
  "nbformat": 4,
  "nbformat_minor": 0,
  "metadata": {
    "colab": {
      "name": "Preprocessing.ipynb",
      "provenance": [],
      "authorship_tag": "ABX9TyPZpZpZ7kaHaQqC2/mYOFi0",
      "include_colab_link": true
    },
    "kernelspec": {
      "name": "python3",
      "display_name": "Python 3"
    }
  },
  "cells": [
    {
      "cell_type": "markdown",
      "metadata": {
        "id": "view-in-github",
        "colab_type": "text"
      },
      "source": [
        "<a href=\"https://colab.research.google.com/github/tejpat98/Textbook-Summarisation/blob/main/Preprocessing.ipynb\" target=\"_parent\"><img src=\"https://colab.research.google.com/assets/colab-badge.svg\" alt=\"Open In Colab\"/></a>"
      ]
    },
    {
      "cell_type": "markdown",
      "metadata": {
        "id": "XV64K4w3_7pO"
      },
      "source": [
        "**Preprocessing textbook dataset:**\r\n",
        "*   Download all textbooks (OP / CC licences)\r\n",
        "*   Convert PDF into raw text data\r\n",
        "*   Split textbooks into chapters\r\n",
        "*   Put into a labeled dataset format\r\n"
      ]
    },
    {
      "cell_type": "code",
      "metadata": {
        "id": "xdlUeDIM_6SB",
        "colab": {
          "base_uri": "https://localhost:8080/"
        },
        "outputId": "c597bf59-d9dc-401d-990f-280b8b794533"
      },
      "source": [
        "from google.colab import drive\r\n",
        "drive.mount('/content/drive/')"
      ],
      "execution_count": 6,
      "outputs": [
        {
          "output_type": "stream",
          "text": [
            "Mounted at /content/drive/\n"
          ],
          "name": "stdout"
        }
      ]
    },
    {
      "cell_type": "code",
      "metadata": {
        "id": "fPxODjZbxSE_"
      },
      "source": [
        "!ls '/content/drive/My Drive/University/Computer Science - Level 3/FYP/Open and CC Textbooks (PDF)/'"
      ],
      "execution_count": null,
      "outputs": []
    },
    {
      "cell_type": "code",
      "metadata": {
        "id": "MlqMptKnx7M9"
      },
      "source": [
        "import PyPDF2\r\n",
        "\r\n",
        "\r\n",
        "#Open PDF file\r\n",
        "PDFfile=open('1.pdf','rb')\r\n",
        "PDFreader=PyPDF2.PdfFileReader(PDFfile)\r\n",
        "#Extract raw text\r\n",
        "x=PDFreader.numPages\r\n",
        "pageobj=PDFreader.getPage(x-1)\r\n",
        "text=pageobj.extractText()\r\n",
        "#save raw text \r\n",
        "file1=open(r\"(folder path)\\\\1.txt\",\"a\")\r\n",
        "file1.writelines(text)\r\n",
        "file1.close()"
      ],
      "execution_count": null,
      "outputs": []
    }
  ]
}