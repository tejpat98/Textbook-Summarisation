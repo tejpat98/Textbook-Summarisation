{
  "nbformat": 4,
  "nbformat_minor": 0,
  "metadata": {
    "colab": {
      "name": "Preprocessing.ipynb",
      "provenance": [],
      "authorship_tag": "ABX9TyPHOyjxPbhnnOCCQlM6CEEw",
      "include_colab_link": true
    },
    "kernelspec": {
      "name": "python3",
      "display_name": "Python 3"
    }
  },
  "cells": [
    {
      "cell_type": "markdown",
      "metadata": {
        "id": "view-in-github",
        "colab_type": "text"
      },
      "source": [
        "<a href=\"https://colab.research.google.com/github/tejpat98/Textbook-Summarisation/blob/main/Preprocessing.ipynb\" target=\"_parent\"><img src=\"https://colab.research.google.com/assets/colab-badge.svg\" alt=\"Open In Colab\"/></a>"
      ]
    },
    {
      "cell_type": "markdown",
      "metadata": {
        "id": "XV64K4w3_7pO"
      },
      "source": [
        "**Preprocessing textbook dataset:**\r\n",
        "*   Download all textbooks (OP / CC licences)\r\n",
        "*   Convert PDF into raw text data\r\n",
        "*   Split textbooks into chapters\r\n",
        "*   Put into a labeled dataset format\r\n"
      ]
    },
    {
      "cell_type": "markdown",
      "metadata": {
        "id": "Z_Hzs0zrYI-n"
      },
      "source": [
        "Notes:\r\n",
        "https://stackoverflow.com/questions/60754884/python-ocr-pytesseract-for-pdf \r\n"
      ]
    },
    {
      "cell_type": "code",
      "metadata": {
        "id": "xdlUeDIM_6SB",
        "colab": {
          "base_uri": "https://localhost:8080/"
        },
        "outputId": "12d9ecca-c3b0-4816-9988-2f2e3f4e38d0"
      },
      "source": [
        "from google.colab import drive\r\n",
        "drive.mount('/content/drive/')"
      ],
      "execution_count": null,
      "outputs": [
        {
          "output_type": "stream",
          "text": [
            "Drive already mounted at /content/drive/; to attempt to forcibly remount, call drive.mount(\"/content/drive/\", force_remount=True).\n"
          ],
          "name": "stdout"
        }
      ]
    },
    {
      "cell_type": "code",
      "metadata": {
        "id": "fPxODjZbxSE_"
      },
      "source": [
        "%cd '/content/drive/My Drive/University/Computer Science - Level 3/FYP/Open and CC Textbooks (PDF)/'\r\n",
        "filename = !ls\r\n",
        "print(filename[0])"
      ],
      "execution_count": null,
      "outputs": []
    },
    {
      "cell_type": "code",
      "metadata": {
        "id": "L9EFdnbC6VPl"
      },
      "source": [
        "!pip install PyPDF2"
      ],
      "execution_count": null,
      "outputs": []
    },
    {
      "cell_type": "code",
      "metadata": {
        "id": "MlqMptKnx7M9"
      },
      "source": [
        "import PyPDF2\r\n",
        "\r\n",
        "for i in range(1,28):\r\n",
        "  #Open PDF file\r\n",
        "  %cd '/content/drive/MyDrive/University/Computer Science - Level 3/FYP/Open and CC Textbooks (PDF)'\r\n",
        "  pdf_file = open(str(i)+'.txt', 'rb')\r\n",
        "  pdf=PyPDF2.PdfFileReader(pdf_file)\r\n",
        "  with open('/content/drive/MyDrive/University/Computer Science - Level 3/FYP/Open and CC Textbooks (PDF)/output/'+str(i)+'.txt', 'a') as f:\r\n",
        "      for page_num in range(pdf.numPages):\r\n",
        "          # print('Page: {0}'.format(page_num))\r\n",
        "          pageObj = pdf.getPage(page_num)\r\n",
        "\r\n",
        "          try: \r\n",
        "              txt = pageObj.extractText()\r\n",
        "          except:\r\n",
        "              pass\r\n",
        "          else:\r\n",
        "              f.write('Page {0}\\n'.format(page_num+1))\r\n",
        "              f.write(''.center(100, '-'))\r\n",
        "              f.write(txt)\r\n",
        "      f.close()"
      ],
      "execution_count": null,
      "outputs": []
    }
  ]
}