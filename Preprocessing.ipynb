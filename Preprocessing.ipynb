{
  "nbformat": 4,
  "nbformat_minor": 0,
  "metadata": {
    "colab": {
      "name": "Preprocessing.ipynb",
      "provenance": [],
      "authorship_tag": "ABX9TyPT7xi7GAEKtX+P4zXPRYSf",
      "include_colab_link": true
    },
    "kernelspec": {
      "name": "python3",
      "display_name": "Python 3"
    }
  },
  "cells": [
    {
      "cell_type": "markdown",
      "metadata": {
        "id": "view-in-github",
        "colab_type": "text"
      },
      "source": [
        "<a href=\"https://colab.research.google.com/github/tejpat98/Textbook-Summarisation/blob/main/Preprocessing.ipynb\" target=\"_parent\"><img src=\"https://colab.research.google.com/assets/colab-badge.svg\" alt=\"Open In Colab\"/></a>"
      ]
    },
    {
      "cell_type": "markdown",
      "metadata": {
        "id": "XV64K4w3_7pO"
      },
      "source": [
        "**Preprocessing textbook dataset:**\r\n",
        "*   Download all textbooks (OP / CC licences)\r\n",
        "*   Convert PDF into raw text data\r\n",
        "*   Split textbooks into chapters\r\n",
        "*   Put into a labeled dataset format\r\n"
      ]
    },
    {
      "cell_type": "code",
      "metadata": {
        "id": "xdlUeDIM_6SB"
      },
      "source": [
        ""
      ],
      "execution_count": null,
      "outputs": []
    }
  ]
}