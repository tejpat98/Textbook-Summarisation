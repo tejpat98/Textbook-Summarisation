{
  "nbformat": 4,
  "nbformat_minor": 0,
  "metadata": {
    "colab": {
      "name": "Preprocessing.ipynb",
      "provenance": [],
      "authorship_tag": "ABX9TyMacbYe0WTsamC35PsN0lsE",
      "include_colab_link": true
    },
    "kernelspec": {
      "name": "python3",
      "display_name": "Python 3"
    }
  },
  "cells": [
    {
      "cell_type": "markdown",
      "metadata": {
        "id": "view-in-github",
        "colab_type": "text"
      },
      "source": [
        "<a href=\"https://colab.research.google.com/github/tejpat98/Textbook-Summarisation/blob/main/Preprocessing.ipynb\" target=\"_parent\"><img src=\"https://colab.research.google.com/assets/colab-badge.svg\" alt=\"Open In Colab\"/></a>"
      ]
    },
    {
      "cell_type": "markdown",
      "metadata": {
        "id": "XV64K4w3_7pO"
      },
      "source": [
        "**Preprocessing textbook dataset:**\r\n",
        "*   Download textbooks (OP / CC licences)\r\n",
        "*   Convert PDF into raw text data\r\n",
        "*   Split textbooks into chapters\r\n",
        "*   Put into a labeled dataset format\r\n"
      ]
    },
    {
      "cell_type": "markdown",
      "metadata": {
        "id": "Z_Hzs0zrYI-n"
      },
      "source": [
        "Notes:\r\n",
        "https://stackoverflow.com/questions/60754884/python-ocr-pytesseract-for-pdf \r\n"
      ]
    },
    {
      "cell_type": "code",
      "metadata": {
        "id": "xdlUeDIM_6SB",
        "colab": {
          "base_uri": "https://localhost:8080/"
        },
        "outputId": "47d35cab-d904-43a9-aa56-3ef9f8324f15"
      },
      "source": [
        "from google.colab import drive\r\n",
        "drive.mount('/content/drive/')"
      ],
      "execution_count": 1,
      "outputs": [
        {
          "output_type": "stream",
          "text": [
            "Mounted at /content/drive/\n"
          ],
          "name": "stdout"
        }
      ]
    },
    {
      "cell_type": "code",
      "metadata": {
        "id": "L9EFdnbC6VPl"
      },
      "source": [
        "!apt-get install poppler-utils\r\n",
        "!apt-get install tesseract-ocr\r\n",
        "!pip install PyPDF2\r\n",
        "!pip install pdf2image\r\n",
        "!pip install pytesseract"
      ],
      "execution_count": null,
      "outputs": []
    },
    {
      "cell_type": "code",
      "metadata": {
        "id": "9pLtlp0ARQwT"
      },
      "source": [
        "!sudo add-apt-repository ppa:alex-p/tesseract-ocr\r\n",
        "!sudo apt-get update\r\n",
        "!sudo apt install libtesseract-dev"
      ],
      "execution_count": null,
      "outputs": []
    },
    {
      "cell_type": "code",
      "metadata": {
        "id": "6eFiLXMBSxqV"
      },
      "source": [
        "!nvidia-smi"
      ],
      "execution_count": null,
      "outputs": []
    },
    {
      "cell_type": "code",
      "metadata": {
        "id": "gXjqbl9GdKua"
      },
      "source": [
        "import GPUtil\r\n",
        "GPUs = GPUtil.getGPUs()\r\n",
        "for i, gpu in enumerate(GPUs):\r\n",
        "  print('GPU {:d} ... Mem Free: {:.0f}MB / {:.0f}MB | Utilization {:3.0f}%'.format(i, gpu.memoryFree, gpu.memoryTotal, gpu.memoryUtil*100))\r\n"
      ],
      "execution_count": null,
      "outputs": []
    },
    {
      "cell_type": "markdown",
      "metadata": {
        "id": "VGZpwrAM2a15"
      },
      "source": [
        "Convert PDF into Images"
      ]
    },
    {
      "cell_type": "code",
      "metadata": {
        "colab": {
          "base_uri": "https://localhost:8080/"
        },
        "id": "6rs7XTygFJBc",
        "outputId": "5bc44edd-5372-4211-9351-93d84624df8a"
      },
      "source": [
        "import os\r\n",
        "from PIL import Image\r\n",
        "from pdf2image import convert_from_path\r\n",
        "import pytesseract\r\n",
        "\r\n",
        "%cd '/content/drive/MyDrive/University/Computer Science - Level 3/FYP/Open and CC Textbooks (PDF)/27/'\r\n",
        "path='/content/drive/MyDrive/University/Computer Science - Level 3/FYP/Open and CC Textbooks (PDF)/27/images/'\r\n",
        "fileName = '27.pdf'\r\n",
        "doc = convert_from_path(fileName, 300, output_folder=path, paths_only=True, fmt=\"jpeg\")\r\n"
      ],
      "execution_count": 17,
      "outputs": [
        {
          "output_type": "stream",
          "text": [
            "/content/drive/MyDrive/University/Computer Science - Level 3/FYP/Open and CC Textbooks (PDF)/27\n"
          ],
          "name": "stdout"
        }
      ]
    },
    {
      "cell_type": "markdown",
      "metadata": {
        "id": "J-gCTGlT2gOv"
      },
      "source": [
        "Convert Images into Text using PyTesseract"
      ]
    },
    {
      "cell_type": "code",
      "metadata": {
        "id": "LfuFZeJcuD3t"
      },
      "source": [
        "for i in range(5,28):\r\n",
        "  path = '/content/drive/MyDrive/University/Computer Science - Level 3/FYP/Open and CC Textbooks (PDF)/'+str(i)+'/images/'\r\n",
        "  ImageNames = os.listdir(\"/content/drive/MyDrive/University/Computer Science - Level 3/FYP/Open and CC Textbooks (PDF)/\"+str(i)+\"/images/\")\r\n",
        "  print(len(ImageNames))\r\n",
        "  PrefList= ImageNames[0].strip().split('-')[:-1]\r\n",
        "  pref = '-'.join(PrefList)\r\n",
        "\r\n",
        "  for i in range(1,len(ImageNames)):\r\n",
        "    with open(path+'**output.txt', 'a') as f:\r\n",
        "      txt = pytesseract.image_to_string(Image.open(path+str(pref)+'-'+str(i).zfill(len(str(len(ImageNames))))+'.jpg'))\r\n",
        "      f.write(\"*****Page: \" + str(i) +\"*****\")\r\n",
        "      f.write(\"\\n\")\r\n",
        "      f.write(txt)"
      ],
      "execution_count": null,
      "outputs": []
    }
  ]
}